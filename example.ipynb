{
 "cells": [
  {
   "cell_type": "markdown",
   "metadata": {
    "deletable": true,
    "editable": true
   },
   "source": [
    "# Footgoal\n",
    "Program typujący rezultat meczu na podstawie obecnej formy dużyn oraz bezpośrednich starć z przeszłości  "
   ]
  },
  {
   "cell_type": "markdown",
   "metadata": {
    "deletable": true,
    "editable": true
   },
   "source": [
    "Piłka nożna to najpopularniejszy sport na świecie. Mecze piłkarskie to nie tylko emocje wywołane przez starcia drużyn, ale i również potęgowane przez zakłady bukmacherskie. Oceniając szanse zespołów na zwycięstwo kierujemy się często własnymi odczuciami. Często faworyzujemy ulubione drużyny, zamiast dokładnie przeanalizować obecną formę zespołów.\n",
    "\n",
    "Z pomocą przychodzi Footgoal. Program na podstawie 5 ostatnich spotkań typuje rezultat."
   ]
  },
  {
   "cell_type": "markdown",
   "metadata": {
    "deletable": true,
    "editable": true
   },
   "source": [
    "### Dane, na podstawie których typowany jest wynik:\n",
    "- wyniki 5 ostatnich spotkań\n",
    "- wyniki 5 ostatnich spotkań dom/wyjazd \n",
    "- dni od ostatniego meczu\n",
    "- wyniki 5 ostatnich bezpośrednich starć\n",
    "- wyniki 5 ostatnich bezpośrednich starć dom/wyjazd"
   ]
  },
  {
   "cell_type": "markdown",
   "metadata": {
    "deletable": true,
    "editable": true
   },
   "source": [
    "### Skuteczność: ok. 53%"
   ]
  },
  {
   "cell_type": "markdown",
   "metadata": {
    "collapsed": true,
    "deletable": true,
    "editable": true
   },
   "source": [
    "## Instalacja\n",
    "\n",
    "pip install git+https://github.com/AGHPythonCourse2017/zad3-lysy352.git\n"
   ]
  },
  {
   "cell_type": "markdown",
   "metadata": {
    "collapsed": false,
    "deletable": true,
    "editable": true
   },
   "source": [
    "## Start"
   ]
  },
  {
   "cell_type": "markdown",
   "metadata": {
    "deletable": true,
    "editable": true
   },
   "source": [
    "### W konosli:"
   ]
  },
  {
   "cell_type": "code",
   "execution_count": 2,
   "metadata": {
    "collapsed": false,
    "deletable": true,
    "editable": true
   },
   "outputs": [
    {
     "name": "stdout",
     "output_type": "stream",
     "text": [
      "FIXTURES: Chelsea FC\n",
      "2017-05-08                  Chelsea FC    3 - 0    Middlesbrough FC         \n",
      "2017-05-12     West Bromwich Albion FC    0 - 1    Chelsea FC               \n",
      "2017-05-15                  Chelsea FC    4 - 3    Watford FC               \n",
      "2017-05-21                  Chelsea FC    5 - 1    Sunderland AFC           \n",
      "2017-05-27                  Arsenal FC    2 - 1    Chelsea FC               \n",
      "(4, 0, 1, 8)\n",
      "\n",
      "\n",
      "FIXTURES: Arsenal FC\n",
      "2017-05-10              Southampton FC    0 - 2    Arsenal FC               \n",
      "2017-05-13               Stoke City FC    1 - 4    Arsenal FC               \n",
      "2017-05-16                  Arsenal FC    2 - 0    Sunderland AFC           \n",
      "2017-05-21                  Arsenal FC    3 - 1    Everton FC               \n",
      "2017-05-27                  Arsenal FC    2 - 1    Chelsea FC               \n",
      "(5, 0, 0, 10)\n",
      "\n",
      "\n",
      "HOME FIXTURES: Chelsea FC\n",
      "2017-04-22                  Chelsea FC    4 - 2    Tottenham Hotspur FC     \n",
      "2017-04-25                  Chelsea FC    4 - 2    Southampton FC           \n",
      "2017-05-08                  Chelsea FC    3 - 0    Middlesbrough FC         \n",
      "2017-05-15                  Chelsea FC    4 - 3    Watford FC               \n",
      "2017-05-21                  Chelsea FC    5 - 1    Sunderland AFC           \n",
      "(5, 0, 0, 12)\n",
      "\n",
      "\n",
      "AWAY FIXTURES: Arsenal FC\n",
      "2017-04-10           Crystal Palace FC    3 - 0    Arsenal FC               \n",
      "2017-04-17            Middlesbrough FC    1 - 2    Arsenal FC               \n",
      "2017-04-30        Tottenham Hotspur FC    2 - 0    Arsenal FC               \n",
      "2017-05-10              Southampton FC    0 - 2    Arsenal FC               \n",
      "2017-05-13               Stoke City FC    1 - 4    Arsenal FC               \n",
      "(3, 0, 2, 1)\n",
      "\n",
      "\n",
      "H2H FIXTURES\n",
      "2015-09-19                  Chelsea FC    2 - 0    Arsenal FC               \n",
      "2016-01-24                  Arsenal FC    0 - 1    Chelsea FC               \n",
      "2016-09-24                  Arsenal FC    3 - 0    Chelsea FC               \n",
      "2017-02-04                  Chelsea FC    3 - 1    Arsenal FC               \n",
      "2017-05-27                  Arsenal FC    2 - 1    Chelsea FC               \n",
      "(3, 0, 2, 1) \n",
      "\n",
      "H2H FIXTURES H/A\n",
      "2013-01-19                  Chelsea FC    2 - 1    Arsenal FC               \n",
      "2014-03-22                  Chelsea FC    6 - 0    Arsenal FC               \n",
      "2014-10-05                  Chelsea FC    2 - 0    Arsenal FC               \n",
      "2015-09-19                  Chelsea FC    2 - 0    Arsenal FC               \n",
      "2017-02-04                  Chelsea FC    3 - 1    Arsenal FC               \n",
      "(5, 0, 0, 13)\n",
      "\n",
      "\n",
      "PREDICTED RESULT: Chelsea FC\n"
     ]
    }
   ],
   "source": [
    "%%bash\n",
    "footgoal --home chelsea --away arsenal "
   ]
  },
  {
   "cell_type": "markdown",
   "metadata": {
    "deletable": true,
    "editable": true
   },
   "source": [
    "### W projekcie"
   ]
  },
  {
   "cell_type": "code",
   "execution_count": 3,
   "metadata": {
    "collapsed": true,
    "deletable": true,
    "editable": true
   },
   "outputs": [],
   "source": [
    "from footgoal.basic_parts import Team, Match"
   ]
  },
  {
   "cell_type": "code",
   "execution_count": 4,
   "metadata": {
    "collapsed": false,
    "deletable": true,
    "editable": true
   },
   "outputs": [],
   "source": [
    "home_team = Team('chelsea')\n",
    "away_team = Team('arsenal')"
   ]
  },
  {
   "cell_type": "code",
   "execution_count": 5,
   "metadata": {
    "collapsed": false,
    "deletable": true,
    "editable": true
   },
   "outputs": [
    {
     "name": "stdout",
     "output_type": "stream",
     "text": [
      "FIXTURES: Chelsea FC\n",
      "2017-05-08                  Chelsea FC    3 - 0    Middlesbrough FC         \n",
      "2017-05-12     West Bromwich Albion FC    0 - 1    Chelsea FC               \n",
      "2017-05-15                  Chelsea FC    4 - 3    Watford FC               \n",
      "2017-05-21                  Chelsea FC    5 - 1    Sunderland AFC           \n",
      "2017-05-27                  Arsenal FC    2 - 1    Chelsea FC               \n",
      "(4, 0, 1, 8)\n",
      "FIXTURES: Arsenal FC\n",
      "2017-05-10              Southampton FC    0 - 2    Arsenal FC               \n",
      "2017-05-13               Stoke City FC    1 - 4    Arsenal FC               \n",
      "2017-05-16                  Arsenal FC    2 - 0    Sunderland AFC           \n",
      "2017-05-21                  Arsenal FC    3 - 1    Everton FC               \n",
      "2017-05-27                  Arsenal FC    2 - 1    Chelsea FC               \n",
      "(5, 0, 0, 10)\n"
     ]
    }
   ],
   "source": [
    "home_team.print_fixtures(5)\n",
    "away_team.print_fixtures(5)"
   ]
  },
  {
   "cell_type": "code",
   "execution_count": 6,
   "metadata": {
    "collapsed": false,
    "deletable": true,
    "editable": true
   },
   "outputs": [
    {
     "name": "stdout",
     "output_type": "stream",
     "text": [
      "HOME FIXTURES: Chelsea FC\n",
      "2017-04-22                  Chelsea FC    4 - 2    Tottenham Hotspur FC     \n",
      "2017-04-25                  Chelsea FC    4 - 2    Southampton FC           \n",
      "2017-05-08                  Chelsea FC    3 - 0    Middlesbrough FC         \n",
      "2017-05-15                  Chelsea FC    4 - 3    Watford FC               \n",
      "2017-05-21                  Chelsea FC    5 - 1    Sunderland AFC           \n",
      "(5, 0, 0, 12)\n",
      "AWAY FIXTURES: Arsenal FC\n",
      "2017-04-10           Crystal Palace FC    3 - 0    Arsenal FC               \n",
      "2017-04-17            Middlesbrough FC    1 - 2    Arsenal FC               \n",
      "2017-04-30        Tottenham Hotspur FC    2 - 0    Arsenal FC               \n",
      "2017-05-10              Southampton FC    0 - 2    Arsenal FC               \n",
      "2017-05-13               Stoke City FC    1 - 4    Arsenal FC               \n",
      "(3, 0, 2, 1)\n"
     ]
    }
   ],
   "source": [
    "home_team.print_home_fixtures(5)\n",
    "away_team.print_away_fixtures(5)"
   ]
  },
  {
   "cell_type": "code",
   "execution_count": 7,
   "metadata": {
    "collapsed": true,
    "deletable": true,
    "editable": true
   },
   "outputs": [],
   "source": [
    "match = Match(home_team, away_team)"
   ]
  },
  {
   "cell_type": "code",
   "execution_count": 8,
   "metadata": {
    "collapsed": false,
    "deletable": true,
    "editable": true
   },
   "outputs": [
    {
     "name": "stdout",
     "output_type": "stream",
     "text": [
      "H2H FIXTURES\n",
      "2015-09-19                  Chelsea FC    2 - 0    Arsenal FC               \n",
      "2016-01-24                  Arsenal FC    0 - 1    Chelsea FC               \n",
      "2016-09-24                  Arsenal FC    3 - 0    Chelsea FC               \n",
      "2017-02-04                  Chelsea FC    3 - 1    Arsenal FC               \n",
      "2017-05-27                  Arsenal FC    2 - 1    Chelsea FC               \n",
      "(3, 0, 2, 1) \n",
      "\n",
      "H2H FIXTURES H/A\n",
      "2013-01-19                  Chelsea FC    2 - 1    Arsenal FC               \n",
      "2014-03-22                  Chelsea FC    6 - 0    Arsenal FC               \n",
      "2014-10-05                  Chelsea FC    2 - 0    Arsenal FC               \n",
      "2015-09-19                  Chelsea FC    2 - 0    Arsenal FC               \n",
      "2017-02-04                  Chelsea FC    3 - 1    Arsenal FC               \n",
      "(5, 0, 0, 13)\n"
     ]
    }
   ],
   "source": [
    "match.print_h2h_fixtures(5)"
   ]
  },
  {
   "cell_type": "code",
   "execution_count": 9,
   "metadata": {
    "collapsed": false,
    "deletable": true,
    "editable": true
   },
   "outputs": [
    {
     "name": "stdout",
     "output_type": "stream",
     "text": [
      "Chelsea FC\n"
     ]
    }
   ],
   "source": [
    "print(match.predict())"
   ]
  },
  {
   "cell_type": "markdown",
   "metadata": {
    "deletable": true,
    "editable": true
   },
   "source": [
    "## Testing score:"
   ]
  },
  {
   "cell_type": "code",
   "execution_count": 10,
   "metadata": {
    "collapsed": false,
    "deletable": true,
    "editable": true
   },
   "outputs": [
    {
     "name": "stdout",
     "output_type": "stream",
     "text": [
      "0.550185873606\n"
     ]
    }
   ],
   "source": [
    "from footgoal.learning import test_model\n",
    "\n",
    "print(test_model('/data/test_data.csv'))"
   ]
  }
 ],
 "metadata": {
  "kernelspec": {
   "display_name": "Python 3",
   "language": "python",
   "name": "python3"
  },
  "language_info": {
   "codemirror_mode": {
    "name": "ipython",
    "version": 3
   },
   "file_extension": ".py",
   "mimetype": "text/x-python",
   "name": "python",
   "nbconvert_exporter": "python",
   "pygments_lexer": "ipython3",
   "version": "3.5.3"
  }
 },
 "nbformat": 4,
 "nbformat_minor": 2
}
